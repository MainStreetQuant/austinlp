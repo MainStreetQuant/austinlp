{
 "metadata": {
  "name": "",
  "signature": "sha256:534a3937c0b68651c21a81418eb9ed1288aa02108d01e63e1f1e4c00cff1c2a2"
 },
 "nbformat": 3,
 "nbformat_minor": 0,
 "worksheets": [
  {
   "cells": [
    {
     "cell_type": "heading",
     "level": 2,
     "metadata": {},
     "source": [
      "Inheritance"
     ]
    },
    {
     "cell_type": "markdown",
     "metadata": {},
     "source": [
      "Inheritance is a mechanism for creating a new class that specialized or midifies the behavior of an existing class.\n",
      "\n",
      "* Base Class (Superclass): the original class\n",
      "* Derived Class (Subclass): the new class, which may add new or redefine any of the inherited attributes"
     ]
    },
    {
     "cell_type": "code",
     "collapsed": false,
     "input": [
      "def Foo(object):\n",
      "    pass"
     ],
     "language": "python",
     "metadata": {},
     "outputs": []
    },
    {
     "cell_type": "code",
     "collapsed": false,
     "input": [
      "dir(Foo) #what does \"object\" give us?"
     ],
     "language": "python",
     "metadata": {},
     "outputs": []
    },
    {
     "cell_type": "code",
     "collapsed": false,
     "input": [
      "class Account(object):\n",
      "    num_accounts = 0\n",
      "    def __init__(self,name,balance):\n",
      "        self.name = name\n",
      "        self.balance = balance\n",
      "        Account.num_accounts += 1\n",
      "    def __del__ (self):\n",
      "        Account.num_accounts -= 1\n",
      "    def deposit(self, amt):\n",
      "        self.balance = self.balance + amt\n",
      "    def withdraw(self,amt):\n",
      "        self.balance = self.balance - amt\n",
      "    def inquiry(self):\n",
      "        return self.balance"
     ],
     "language": "python",
     "metadata": {},
     "outputs": []
    },
    {
     "cell_type": "heading",
     "level": 4,
     "metadata": {},
     "source": [
      "Reimplement a method"
     ]
    },
    {
     "cell_type": "code",
     "collapsed": false,
     "input": [
      "import random\n",
      "class EvilAccount(Account):\n",
      "    def inquiry(self):\n",
      "        if random.randint(1,4) == 1:\n",
      "            return self.balance * 1.10\n",
      "        else:\n",
      "            return self.balance"
     ],
     "language": "python",
     "metadata": {},
     "outputs": []
    },
    {
     "cell_type": "code",
     "collapsed": false,
     "input": [
      "a = EvilAccount(\"George\", 1000.00)\n",
      "a.deposit(10.00)        # Calls Account.deposit(a,10.00)"
     ],
     "language": "python",
     "metadata": {},
     "outputs": []
    },
    {
     "cell_type": "code",
     "collapsed": false,
     "input": [
      "available = a.inquiry() # Calls EvilAccount.inquiry(a)\n",
      "available"
     ],
     "language": "python",
     "metadata": {},
     "outputs": []
    },
    {
     "cell_type": "heading",
     "level": 4,
     "metadata": {},
     "source": [
      "Reimplement and call original"
     ]
    },
    {
     "cell_type": "code",
     "collapsed": false,
     "input": [
      "class MoreEvilAccount(EvilAccount):\n",
      "    def deposit(self,amount):\n",
      "        self.withdraw(5.00)\n",
      "        super(MoreEvilAccount,self).deposit(amount) #use \"super\" vs EvilAccount.Deposit(self, amount)"
     ],
     "language": "python",
     "metadata": {},
     "outputs": []
    },
    {
     "cell_type": "code",
     "collapsed": false,
     "input": [
      "b = MoreEvilAccount(\"Fred\", 1000.00)\n",
      "b.deposit(10.00)"
     ],
     "language": "python",
     "metadata": {},
     "outputs": []
    },
    {
     "cell_type": "code",
     "collapsed": false,
     "input": [
      "available = b.inquiry() # Calls EvilAccount.inquiry(a)\n",
      "available"
     ],
     "language": "python",
     "metadata": {},
     "outputs": []
    },
    {
     "cell_type": "heading",
     "level": 4,
     "metadata": {},
     "source": [
      "Add new attribute in subclass"
     ]
    },
    {
     "cell_type": "code",
     "collapsed": false,
     "input": [
      "import random\n",
      "class EvilAccount2(Account):\n",
      "    \n",
      "    def __init__(self, name, balance, evilfactor):\n",
      "        Account.__init__(self, name, balance) # Init Account\n",
      "        self.evilfactor = evilfactor\n",
      "    def inquiry(self):\n",
      "        if random.randint(1,4) == 1:\n",
      "            return self.balance * self.evilfactor\n",
      "        else:\n",
      "            return self.balance"
     ],
     "language": "python",
     "metadata": {},
     "outputs": []
    },
    {
     "cell_type": "code",
     "collapsed": false,
     "input": [
      "c = EvilAccount2(\"Marco\", 1000.00, 1.5)\n",
      "c.deposit(10.00)"
     ],
     "language": "python",
     "metadata": {},
     "outputs": []
    },
    {
     "cell_type": "code",
     "collapsed": false,
     "input": [
      "available = c.inquiry() # Calls EvilAccount.inquiry(a)\n",
      "available"
     ],
     "language": "python",
     "metadata": {},
     "outputs": []
    },
    {
     "cell_type": "heading",
     "level": 3,
     "metadata": {},
     "source": [
      "Multiple Inheritance"
     ]
    },
    {
     "cell_type": "markdown",
     "metadata": {},
     "source": [
      "As a general rule, multiple inheritance is something best avoided in most programs."
     ]
    }
   ],
   "metadata": {}
  }
 ]
}