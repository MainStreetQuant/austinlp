{
 "metadata": {
  "name": "",
  "signature": "sha256:15a7f87846fe23d1a5c37e33de8fea0152c524e829201746e50490148bd0cb70"
 },
 "nbformat": 3,
 "nbformat_minor": 0,
 "worksheets": [
  {
   "cells": [
    {
     "cell_type": "heading",
     "level": 2,
     "metadata": {},
     "source": [
      "Classes and object-oriented programming (OOP)"
     ]
    },
    {
     "cell_type": "markdown",
     "metadata": {},
     "source": [
      "Classes are the mechanism used to create new kinds of objects (re: Types/Objects, see CH3)"
     ]
    },
    {
     "cell_type": "heading",
     "level": 3,
     "metadata": {},
     "source": [
      "The class Statement"
     ]
    },
    {
     "cell_type": "markdown",
     "metadata": {},
     "source": [
      "* Class: a set of attributes shared by a collection of objects\n",
      "* Instance: an implementation of an object\n",
      "* Method (Instance Method): a function defined in and which operates on an instance of a Class\n",
      "* Class Variable: a value shared across instances\n",
      "* Property: a computed attribute\n"
     ]
    },
    {
     "cell_type": "code",
     "collapsed": false,
     "input": [
      "class Account(object):\n",
      "    num_accounts = 0\n",
      "    def __init__(self,name,balance):\n",
      "        self.name = name\n",
      "        self.balance = balance\n",
      "        Account.num_accounts += 1\n",
      "    def __del__ (self):\n",
      "        Account.num_accounts -= 1\n",
      "    def deposit(self, amt):\n",
      "        self.balance = self.balance + amt\n",
      "    def withdraw(self,amt):\n",
      "        self.balance = self.balance - amt\n",
      "    def inquiry(self):\n",
      "        return self.balance"
     ],
     "language": "python",
     "metadata": {},
     "outputs": []
    },
    {
     "cell_type": "heading",
     "level": 3,
     "metadata": {},
     "source": [
      "Class Instances"
     ]
    },
    {
     "cell_type": "code",
     "collapsed": false,
     "input": [
      "# Create a few Accounts\n",
      "a = Account(\"Guido\", 1000.00) # Calls Account.__init__(a, \"Guido\", 1000.00)\n",
      "b = Account(\"Bill\", 10.00)\n",
      "Account.num_accounts"
     ],
     "language": "python",
     "metadata": {},
     "outputs": []
    },
    {
     "cell_type": "code",
     "collapsed": false,
     "input": [
      "a.deposit(100.00) # Calls Account.deposit(a, 100.00)\n",
      "b.withdraw(50.00) # Checks for a.withdraw, then calls Account.withdraw(b, 50.00)\n",
      "name = a.name\n",
      "print(name, a.inquiry(), b.inquiry())"
     ],
     "language": "python",
     "metadata": {},
     "outputs": []
    },
    {
     "cell_type": "heading",
     "level": 3,
     "metadata": {},
     "source": [
      "Scoping Rules"
     ]
    },
    {
     "cell_type": "markdown",
     "metadata": {},
     "source": [
      "Classes define a namespace, but do not create a scope for names used inside the bodies of methods.\n",
      "\n",
      "When implementing a Class, references to attribute and methods must be fully qualified.\n",
      "* self: all values stored on \"self\" are part of the instance; all other assignments are local variables."
     ]
    },
    {
     "cell_type": "code",
     "collapsed": false,
     "input": [
      "class Foo(object):\n",
      "    def bar(self):\n",
      "        print(\"bar\")\n",
      "    def spam(self):\n",
      "        bar(self)\n",
      "        self.bar()\n",
      "        Foo.bar(self)"
     ],
     "language": "python",
     "metadata": {},
     "outputs": []
    },
    {
     "cell_type": "code",
     "collapsed": false,
     "input": [
      "x = Foo()\n",
      "x.spam()"
     ],
     "language": "python",
     "metadata": {},
     "outputs": []
    }
   ],
   "metadata": {}
  }
 ]
}