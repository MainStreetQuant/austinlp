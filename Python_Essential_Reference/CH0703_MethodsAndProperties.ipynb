{
 "metadata": {
  "name": "",
  "signature": "sha256:242eb10cae0a643a860fe570ed3c7c4492b64480a97fa5d35057bb4bdaea2477"
 },
 "nbformat": 3,
 "nbformat_minor": 0,
 "worksheets": [
  {
   "cells": [
    {
     "cell_type": "heading",
     "level": 2,
     "metadata": {},
     "source": [
      "Methods and Properties"
     ]
    },
    {
     "cell_type": "heading",
     "level": 3,
     "metadata": {},
     "source": [
      "Static Methods and Class Methods"
     ]
    },
    {
     "cell_type": "markdown",
     "metadata": {},
     "source": [
      "In a class definition, all functions are assumed to operate on an instance, which is always passed in as the first parameter \"self\".\n",
      "\n",
      "* Static method: an ordinary function that happens to live in the namespace created by a Class.\n",
      "* Class method: functions that operate on the class itself as an object."
     ]
    },
    {
     "cell_type": "heading",
     "level": 4,
     "metadata": {},
     "source": [
      "Static Method"
     ]
    },
    {
     "cell_type": "code",
     "collapsed": false,
     "input": [
      "class Foo(object):\n",
      "    @staticmethod\n",
      "    def add(x,y):\n",
      "        return x + y"
     ],
     "language": "python",
     "metadata": {},
     "outputs": []
    },
    {
     "cell_type": "code",
     "collapsed": false,
     "input": [
      "x = Foo.add(3,4)\n",
      "print(x)"
     ],
     "language": "python",
     "metadata": {},
     "outputs": []
    },
    {
     "cell_type": "code",
     "collapsed": false,
     "input": [
      "import time\n",
      "class Date(object):\n",
      "    def __init__(self, year, month, day):\n",
      "        self.year = year\n",
      "        self.month = month\n",
      "        self.day = day\n",
      "    @staticmethod\n",
      "    def now():\n",
      "        t = time.localtime()\n",
      "        return Date(t.tm_year, t.tm_mon, t.tm_mday) # Note: t.tm_mday, not t.tm_day"
     ],
     "language": "python",
     "metadata": {},
     "outputs": []
    },
    {
     "cell_type": "code",
     "collapsed": false,
     "input": [
      "a = Date(1967,4,9)\n",
      "b = Date.now()\n",
      "print a.year\n",
      "print b.day"
     ],
     "language": "python",
     "metadata": {},
     "outputs": []
    },
    {
     "cell_type": "heading",
     "level": 4,
     "metadata": {},
     "source": [
      "Class Method"
     ]
    },
    {
     "cell_type": "code",
     "collapsed": false,
     "input": [
      "class Times(object):\n",
      "    factor = 1\n",
      "    @classmethod\n",
      "    def mul(cls,x):\n",
      "        return cls.factor*x\n",
      "class TwoTimes(Times):\n",
      "    factor = 2"
     ],
     "language": "python",
     "metadata": {},
     "outputs": []
    },
    {
     "cell_type": "code",
     "collapsed": false,
     "input": [
      "x = TwoTimes.mul(4)\n",
      "print x"
     ],
     "language": "python",
     "metadata": {},
     "outputs": []
    },
    {
     "cell_type": "heading",
     "level": 4,
     "metadata": {},
     "source": [
      "Odd inheritance behavior..."
     ]
    },
    {
     "cell_type": "code",
     "collapsed": false,
     "input": [
      "class EuroDate(Date):\n",
      "    def __str__(self):\n",
      "        return \"%2d/%2d/%4d\" % (self.day, self.month, self.year)"
     ],
     "language": "python",
     "metadata": {},
     "outputs": []
    },
    {
     "cell_type": "code",
     "collapsed": false,
     "input": [
      "a = EuroDate.now()\n",
      "type(a)"
     ],
     "language": "python",
     "metadata": {},
     "outputs": []
    },
    {
     "cell_type": "heading",
     "level": 4,
     "metadata": {},
     "source": [
      "Fix..."
     ]
    },
    {
     "cell_type": "code",
     "collapsed": false,
     "input": [
      "import time\n",
      "class Date2(object):\n",
      "    def __init__(self, year, month, day):\n",
      "        self.year = year\n",
      "        self.month = month\n",
      "        self.day = day\n",
      "    @classmethod                                   #diff\n",
      "    def now(cls):                                  #diff\n",
      "        t = time.localtime()\n",
      "        return cls(t.tm_year, t.tm_mon, t.tm_mday) #diff\n",
      "class EuroDate2(Date2):\n",
      "    def __str__(self):\n",
      "        return \"%2d/%2d/%4d\" % (self.day, self.month, self.year)"
     ],
     "language": "python",
     "metadata": {},
     "outputs": []
    },
    {
     "cell_type": "code",
     "collapsed": false,
     "input": [
      "b = EuroDate2.now()\n",
      "type(b)"
     ],
     "language": "python",
     "metadata": {},
     "outputs": []
    },
    {
     "cell_type": "heading",
     "level": 3,
     "metadata": {},
     "source": [
      "Properties and Descriptors"
     ]
    },
    {
     "cell_type": "markdown",
     "metadata": {},
     "source": [
      "* Property: a special class attribute which calculates the value when accessed"
     ]
    },
    {
     "cell_type": "code",
     "collapsed": false,
     "input": [
      "import math\n",
      "class Circle(object):\n",
      "    def __init__(self, radius):\n",
      "        self.radius = radius\n",
      "    @property\n",
      "    def area(self):\n",
      "        return math.pi*self.radius**2"
     ],
     "language": "python",
     "metadata": {},
     "outputs": []
    },
    {
     "cell_type": "code",
     "collapsed": false,
     "input": [
      "c = Circle(4.0)\n",
      "c.radius # note: no need to use ()"
     ],
     "language": "python",
     "metadata": {},
     "outputs": []
    }
   ],
   "metadata": {}
  }
 ]
}