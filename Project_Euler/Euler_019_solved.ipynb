{
 "metadata": {
  "name": "",
  "signature": "sha256:3f7da1be3b37571a1dda4b5a865d7666c0af3863551af94361e1178be76a7d89"
 },
 "nbformat": 3,
 "nbformat_minor": 0,
 "worksheets": [
  {
   "cells": [
    {
     "cell_type": "markdown",
     "metadata": {},
     "source": [
      "<img src=\"https://projecteuler.net/themes/default/pe_logo_default.png\" alt=\"Project Euler\" align=\"left\"> \n",
      "<br>\n",
      "\n",
      "# [Problem 19 - Counting Sundays.](https://projecteuler.net/problem=19)\n",
      "\n",
      "You are given the following information, but you may prefer to do some research for yourself.\n",
      "\n",
      "    1 Jan 1900 was a Monday.\n",
      "    Thirty days has September,\n",
      "    April, June and November.\n",
      "    All the rest have thirty-one,\n",
      "    Saving February alone,\n",
      "    Which has twenty-eight, rain or shine.\n",
      "    And on leap years, twenty-nine.\n",
      "    A leap year occurs on any year evenly divisible by 4, but not on a century unless it is divisible by 400.\n",
      "\n",
      "How many Sundays fell on the first of the month during the twentieth century (1 Jan 1901 to 31 Dec 2000)?\n"
     ]
    },
    {
     "cell_type": "code",
     "collapsed": false,
     "input": [
      "debug = False\n",
      "year = 1900\n",
      "month = 1\n",
      "day = 1\n",
      "day_of_week = 1\n",
      "\n",
      "sunday_count = 0\n",
      "\n",
      "done = False"
     ],
     "language": "python",
     "metadata": {},
     "outputs": []
    },
    {
     "cell_type": "code",
     "collapsed": false,
     "input": [
      "while not done:\n",
      "    if debug:\n",
      "        print(\"{y}-{m}-{d} was a {dow}\".format(y=year, m=month, d=day, dow=day_of_week))\n",
      "\n",
      "    if (year >= 1901) and (year <= 2000) and (day_of_week == 0):\n",
      "        sunday_count += 1\n",
      "\n",
      "\n",
      "    if   month ==  0:  # Jan\n",
      "        day_of_week = (day_of_week + 31) % 7\n",
      "\n",
      "    elif month ==  1:  # Feb\n",
      "        day_of_week = (day_of_week + 28) % 7\n",
      "\n",
      "        leap_year = False\n",
      "        if ((year %   4) == 0):\n",
      "            leap_year == True\n",
      "        if ((year % 100) == 0):\n",
      "            leap_year == False\n",
      "        if ((year % 400) == 0):\n",
      "            leap_year == True\n",
      "\n",
      "        if leap_year:\n",
      "            day_of_week = (day_of_week + 28) % 7  # leap day\n",
      "\n",
      "    elif month ==  2:  # Mar\n",
      "        day_of_week = (day_of_week + 31) % 7\n",
      "\n",
      "    elif month ==  3:  # Apr\n",
      "        day_of_week = (day_of_week + 30) % 7\n",
      "\n",
      "    elif month ==  4:  # May\n",
      "        day_of_week = (day_of_week + 31) % 7\n",
      "\n",
      "    elif month ==  5:  # Jun\n",
      "        day_of_week = (day_of_week + 30) % 7\n",
      "\n",
      "    elif month ==  6:  # Jul\n",
      "        day_of_week = (day_of_week + 31) % 7\n",
      "\n",
      "    elif month ==  7:  # Aug\n",
      "        day_of_week = (day_of_week + 31) % 7\n",
      "\n",
      "    elif month ==  8:  # Sep\n",
      "        day_of_week = (day_of_week + 30) % 7\n",
      "\n",
      "    elif month ==  9:  # Oct\n",
      "        day_of_week = (day_of_week + 31) % 7\n",
      "\n",
      "    elif month == 10:  # Nov\n",
      "        day_of_week = (day_of_week + 30) % 7\n",
      "\n",
      "    elif month == 11:  # Dec\n",
      "        day_of_week = (day_of_week + 31) % 7\n",
      "        year += 1\n",
      "\n",
      "    month = (month + 1) % 12\n",
      "\n",
      "    if (year == 2001):\n",
      "        done = True\n"
     ],
     "language": "python",
     "metadata": {},
     "outputs": []
    },
    {
     "cell_type": "code",
     "collapsed": false,
     "input": [
      "print(\"Answer = {} Sundays\".format(sunday_count))"
     ],
     "language": "python",
     "metadata": {},
     "outputs": []
    },
    {
     "cell_type": "code",
     "collapsed": false,
     "input": [],
     "language": "python",
     "metadata": {},
     "outputs": []
    }
   ],
   "metadata": {}
  }
 ]
}