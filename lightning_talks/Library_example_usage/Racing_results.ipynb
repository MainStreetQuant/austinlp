{
 "metadata": {
  "name": ""
 },
 "nbformat": 3,
 "nbformat_minor": 0,
 "worksheets": [
  {
   "cells": [
    {
     "cell_type": "markdown",
     "metadata": {},
     "source": [
      "Playing with the Python standard library\n",
      "===\n",
      "\n",
      "You should know a little bit about what is in the Python standard library.  Chances are, there will be lots of stuff in there that you can use, saving yourself lots of programming time, and making your programs smaller and more efficient.\n",
      "\n",
      "\n",
      "We are going to look at a hypothetical programming activity, modeled on some work that you might find yourself needing to do someday.  Maybe you will start off with a simple spreadsheet to get something done quickly, but eventually you discover that what you need to do is a little too difficult to do in a spreadsheet, and you switch over to Python.\n",
      "\n",
      "I am going to show you the actual process I went through in creating this notebook, embarrasing mistakes and all, so that you can see what programming is like in the real world.  A good analogy is driving - if you're showing a visiting friend around your city, you're going to know exactly where to turn and how to get from one place to another in your car.  You will make it look easy, but actually it's not, and all you have to do to remind yourself is to try to repeat your tour in a city you don't know well - now you're making mistakes and getting lost. \n",
      "\n",
      "**Note: if you want the plots we do at the end of this workbook to show up inside your browser, you need to start this iPython session with \"ipython notebook --pylab inline\" instead of the usual \"ipython notebook\".**"
     ]
    },
    {
     "cell_type": "markdown",
     "metadata": {},
     "source": [
      "What we're going to do\n",
      "---\n",
      "\n",
      "We're going to play with some lap time data from an amateur race I participated in recently, but hopefully you can imagine doing something with some similar data from your own life.\n",
      "\n",
      "This data was originally captured from a transponder that was fitted to our car, which was sensed by a wire buried in the track at the start/finish line.  I got the data from a web site which publicly posts results, and put the data into a spreadsheet for analysis, then added some info that was missing.\n",
      "\n",
      "I know that Python can read and write CSV files, where CSV stands for Comma Seperated Values.  My data is in a spreadsheet, so after editing the file to hide some personal details, I did a \"Save As\" in Excel and wrote out a file called \"WRL_TWS_2015-05_results.csv\" that we're going to get Python to read.\n"
     ]
    },
    {
     "cell_type": "markdown",
     "metadata": {},
     "source": [
      "We want to read in a CSV file, let's look up some docs first\n",
      "----\n",
      "\n",
      "The standard library in Python is HUGE.  There's too much to learn here, don't be afraid to look stuff up every time you use it.\n",
      "\n",
      "Python documentation is online at https://docs.python.com, let's go there now and look up \"Excel\".\n",
      "\n",
      "https://docs.python.org/2/search.html?q=Excel&check_keywords=yes&area=default\n",
      "\n",
      "...that leads us to here...\n",
      "\n",
      "https://docs.python.org/2/library/csv.html?highlight=excel"
     ]
    },
    {
     "cell_type": "code",
     "collapsed": false,
     "input": [
      "# Just copying the usage example from the documentation, with a little modification\n",
      "results_file = \"WRL_TWS_2015-05_results.csv\"\n",
      "\n",
      "import csv\n",
      "with open(results_file, 'rb') as csv_file:\n",
      "    results_reader = csv.reader(csv_file)\n",
      "    for lap in results_reader:\n",
      "        print(', '.join(lap))\n"
     ],
     "language": "python",
     "metadata": {},
     "outputs": []
    },
    {
     "cell_type": "markdown",
     "metadata": {},
     "source": [
      "OK, that didn't work, I got an error...\n",
      "\n",
      "> Error: new-line character seen in unquoted field - do you need to open the file in universal-newline mode?\n",
      "\n",
      "I'm guessing that this might be an artifact of the way that Excel writes out CSV files, and maybe I can fix this by telling Python to expect an Excel CSV file."
     ]
    },
    {
     "cell_type": "code",
     "collapsed": false,
     "input": [
      "# Try again, but this time specify the dialect to be Excel\n",
      "import csv\n",
      "with open(results_file, 'rb') as csv_file:\n",
      "    results_reader = csv.reader(csv_file, dialect='excel')\n",
      "    for lap in results_reader:\n",
      "        print(', '.join(lap))\n"
     ],
     "language": "python",
     "metadata": {},
     "outputs": []
    },
    {
     "cell_type": "markdown",
     "metadata": {},
     "source": [
      "Nope, same error.  That wasn't the problem.\n",
      "\n",
      "Next I google the error message.\n",
      "\n",
      "https://www.google.com/#q=Error:+new-line+character+seen+in+unquoted+field+-+do+you+need+to+open+the+file+in+universal-newline+mode%3F\n",
      "\n",
      "I see lots of stuff about opening the file in universal-newline mode, telling me how to do that.\n",
      "\n",
      "https://stackoverflow.com/questions/6726953/open-the-file-in-universal-newline-mode-using-csv-module-django\n",
      "\n",
      "I think that this problem is due to a Mac vs PC difference, but I really don't care - let's just try it and see what happens."
     ]
    },
    {
     "cell_type": "code",
     "collapsed": false,
     "input": [
      "# We're gonna use universal-newline mode\n",
      "import csv\n",
      "with open(results_file, 'rU') as csv_file:\n",
      "    results_reader = csv.reader(csv_file, dialect='excel')\n",
      "    for lap in results_reader:\n",
      "        print(', '.join(lap))\n"
     ],
     "language": "python",
     "metadata": {},
     "outputs": []
    },
    {
     "cell_type": "markdown",
     "metadata": {},
     "source": [
      "OK, that fixed the problem.  Now I've got lots of lines of data.  Since this data is so small, I'm going to read it all in and store it in a list."
     ]
    },
    {
     "cell_type": "code",
     "collapsed": false,
     "input": [
      "# Read our lap data in, and store it in a list\n",
      "laps = []\n",
      "\n",
      "import csv\n",
      "with open(results_file, 'rU') as csv_file:\n",
      "    results_reader = csv.reader(csv_file, dialect='excel')\n",
      "    for lap in results_reader:\n",
      "        laps.append(lap)\n",
      "\n",
      "for lap in laps[:3]:\n",
      "    print(lap)\n",
      "    \n",
      "print(\"We read in a total of {} laps of data\".format(len(laps)))\n",
      "print(\"The last lap was {}\".format(laps[-1]))"
     ],
     "language": "python",
     "metadata": {},
     "outputs": []
    },
    {
     "cell_type": "markdown",
     "metadata": {},
     "source": [
      "I'm only interested in a subset of this data, specifically the lap number, the time, and the driver.  Also, I don't want the header line in my data.  So let's try again and only store the data we want."
     ]
    },
    {
     "cell_type": "code",
     "collapsed": false,
     "input": [
      "# Throw away the data we are not interested in\n",
      "import csv\n",
      "laps = []\n",
      "\n",
      "with open(results_file, 'rU') as csv_file:\n",
      "    results_reader = csv.reader(csv_file, dialect='excel')\n",
      "    \n",
      "    results_reader.next()  # Skip the header line in the CSV file\n",
      "    \n",
      "    for lap in results_reader:\n",
      "        [lap_day, lap_when, lap_num, lap_pos, lap_time, lap_driver] = lap\n",
      "        \n",
      "        laps.append([lap_num, lap_time, lap_driver])\n",
      "        \n",
      "        # Stop processing after the first 3 laps\n",
      "        if lap_num == 3:\n",
      "            break\n",
      "\n",
      "for lap in laps[:5]:\n",
      "    print(lap)\n",
      "    \n",
      "print(\"We read in a total of {} laps of data\".format(len(laps)))\n",
      "print(\"The last lap was {}\".format(laps[-1]))"
     ],
     "language": "python",
     "metadata": {},
     "outputs": []
    },
    {
     "cell_type": "markdown",
     "metadata": {},
     "source": [
      "Something strange is going on here, we asked the code to stop after the first 3 laps were read int, but it was later able to print 5 laps worth of data, and it says it read in 203 laps worth of data.\n",
      "\n",
      "What is going wrong here?"
     ]
    },
    {
     "cell_type": "code",
     "collapsed": false,
     "input": [
      "import csv\n",
      "laps = []\n",
      "\n",
      "with open(results_file, 'rU') as csv_file:\n",
      "    results_reader = csv.reader(csv_file, dialect='excel')\n",
      "    \n",
      "    results_reader.next()  # Skip the header line in the CSV file\n",
      "    \n",
      "    for lap in results_reader:\n",
      "        [lap_day, lap_when, lap_num, lap_pos, lap_time, lap_driver] = lap\n",
      "        \n",
      "        lap_num = int(lap_num)\n",
      "        \n",
      "        laps.append([lap_num, lap_time, lap_driver])\n",
      "        \n",
      "        # Stop processing after the first 3 laps\n",
      "        if lap_num == 3:\n",
      "            break\n",
      "\n",
      "for lap in laps[:5]:\n",
      "    print(lap)\n",
      "    \n",
      "print(\"We read in a total of {} laps of data\".format(len(laps)))\n",
      "print(\"The last lap was {}\".format(laps[-1]))"
     ],
     "language": "python",
     "metadata": {},
     "outputs": []
    },
    {
     "cell_type": "markdown",
     "metadata": {},
     "source": [
      "The fields we read in from the CSV file were being treated as text, so we had to convert the lap number from a string to an integer.\n",
      "\n",
      "Now let's do something intelligent with the lap time field.\n",
      "\n",
      "As you would probably guess, we're not the first people to try to manipulate time values in Python.  Let's look at the documentation again for time handling.\n",
      "\n",
      "https://docs.python.org/2/search.html?q=time\n",
      "\n",
      "...which leads us to...\n",
      "\n",
      "https://docs.python.org/2/library/time.html?highlight=time#module-time"
     ]
    },
    {
     "cell_type": "code",
     "collapsed": false,
     "input": [
      "print(lap_time)"
     ],
     "language": "python",
     "metadata": {},
     "outputs": []
    },
    {
     "cell_type": "code",
     "collapsed": false,
     "input": [
      "# We're just going to work on a single lap time value till we get it right\n",
      "\n",
      "import time\n",
      "lap_time_converted = time.strptime(lap_time, \"%H:%M:%S\")\n",
      "print(lap_time, lap_time_converted)"
     ],
     "language": "python",
     "metadata": {},
     "outputs": []
    },
    {
     "cell_type": "markdown",
     "metadata": {},
     "source": [
      "It looks like the time library doesn't know how to deal with fractions of seconds.  In racing, milliseconds count (yeah, maybe not with our team), so let's see if we can figure out what we can do.\n",
      "\n",
      "Let me Google that for you...\n",
      "\n",
      "https://www.google.com/#q=python+time+format+example+fractional+seconds\n",
      "\n",
      "which leads us to...\n",
      "\n",
      "https://stackoverflow.com/questions/698223/how-can-i-parse-a-time-string-containing-milliseconds-in-it-with-python"
     ]
    },
    {
     "cell_type": "code",
     "collapsed": false,
     "input": [
      "import time\n",
      "lap_time_converted = time.strptime(lap_time, \"%H:%M:%S.%f\")\n",
      "print(lap_time, lap_time_converted)"
     ],
     "language": "python",
     "metadata": {},
     "outputs": []
    },
    {
     "cell_type": "code",
     "collapsed": false,
     "input": [
      "# The beginning of time in my system is\n",
      "time.gmtime(0)"
     ],
     "language": "python",
     "metadata": {},
     "outputs": []
    },
    {
     "cell_type": "code",
     "collapsed": false,
     "input": [
      "# Let's see if we can subtract time zero from our lap time to get a time difference\n",
      "lap_time_converted = time.strptime(lap_time, \"%H:%M:%S.%f\") - time.gmtime(0)"
     ],
     "language": "python",
     "metadata": {},
     "outputs": []
    },
    {
     "cell_type": "markdown",
     "metadata": {},
     "source": [
      "Ok, this is getting too complicated.  The Python libraries time features provide support for lots of complicated stuff like leap years, time zones, leap seconds, etc, which makes this feature a lot more complicated than I was expecting.  I'm going to punt on this and just convert everything to seconds."
     ]
    },
    {
     "cell_type": "code",
     "collapsed": false,
     "input": [
      "[lap_hr, lap_min, lap_sec] = lap_time.split(':')\n",
      "print(lap_hr, lap_min, lap_sec)"
     ],
     "language": "python",
     "metadata": {},
     "outputs": []
    },
    {
     "cell_type": "code",
     "collapsed": false,
     "input": [
      "lap_time_converted = (int(lap_hr)*60.0 + int(lap_min))*60.0 + float(lap_sec)\n",
      "print(lap_time_converted)"
     ],
     "language": "python",
     "metadata": {},
     "outputs": []
    },
    {
     "cell_type": "markdown",
     "metadata": {},
     "source": [
      "We should now be able to read in our lap data and be ready to start working with it"
     ]
    },
    {
     "cell_type": "code",
     "collapsed": false,
     "input": [
      "import csv\n",
      "laps = []\n",
      "\n",
      "with open(results_file, 'rU') as csv_file:\n",
      "    results_reader = csv.reader(csv_file, dialect='excel')\n",
      "    \n",
      "    results_reader.next()  # Skip the header line in the CSV file\n",
      "    \n",
      "    for lap in results_reader:\n",
      "        [lap_day, lap_when, lap_num, lap_pos, lap_time, lap_driver] = lap\n",
      "        \n",
      "        lap_num = int(lap_num)\n",
      "        \n",
      "        [lap_hr, lap_min, lap_sec] = lap_time.split(':')\n",
      "        lap_time_converted = (int(lap_hr)*60.0 + int(lap_min))*60.0 + float(lap_sec)\n",
      "        \n",
      "        laps.append([lap_num, lap_time_converted, lap_driver])\n",
      "\n",
      "for lap in laps[:5]:\n",
      "    print(lap)\n",
      "    \n",
      "print(\"We read in a total of {} laps of data\".format(len(laps)))\n",
      "print(\"The last lap was {}\".format(laps[-1]))"
     ],
     "language": "python",
     "metadata": {},
     "outputs": []
    },
    {
     "cell_type": "markdown",
     "metadata": {},
     "source": [
      "OK, let's find the fastest lap of the event"
     ]
    },
    {
     "cell_type": "code",
     "collapsed": false,
     "input": [
      "fastest_lap = [0, 999999.9, 'XXX']\n",
      "for lap in laps:\n",
      "    if lap[1] < fastest_lap[1]:\n",
      "        print(\"New fastest lap found {}\".format(lap))\n",
      "        fastest_lap = lap"
     ],
     "language": "python",
     "metadata": {},
     "outputs": []
    },
    {
     "cell_type": "code",
     "collapsed": false,
     "input": [
      "# Again, without printing out the intermediate results\n",
      "fastest_lap = [0, 999999.9, 'XXX']\n",
      "for lap in laps:\n",
      "    if lap[1] < fastest_lap[1]:\n",
      "        fastest_lap = lap\n",
      "        \n",
      "print(\"The fastest lap was as follows {}\".format(lap))"
     ],
     "language": "python",
     "metadata": {},
     "outputs": []
    },
    {
     "cell_type": "markdown",
     "metadata": {},
     "source": [
      "Whoops, that's not right.\n",
      "\n",
      "Where did I go wrong?"
     ]
    },
    {
     "cell_type": "code",
     "collapsed": false,
     "input": [
      "# Again, without printing out the intermediate results\n",
      "fastest_lap = [0, 999999.9, 'XXX']\n",
      "for lap in laps:\n",
      "    if lap[1] < fastest_lap[1]:\n",
      "        fastest_lap = lap\n",
      "        \n",
      "print(\"The fastest lap was as follows {}\".format(fastest_lap))"
     ],
     "language": "python",
     "metadata": {},
     "outputs": []
    },
    {
     "cell_type": "markdown",
     "metadata": {},
     "source": [
      "Let's figure out the fastest lap of each driver.  First we need a list of all the drivers.\n",
      "\n",
      "I'm going to use a use a set to gather a list of drivers.\n",
      "\n",
      "First, let's take a look at the docs for sets...\n",
      "\n",
      "https://docs.python.org/2/search.html?q=set&check_keywords=yes&area=default\n",
      "\n",
      "...which leads to...\n",
      "\n",
      "https://docs.python.org/2/library/sets.html?highlight=set#module-sets"
     ]
    },
    {
     "cell_type": "code",
     "collapsed": false,
     "input": [
      "drivers = set()\n",
      "for lap in laps:\n",
      "    drivers.add(lap[2])\n",
      "print(drivers)"
     ],
     "language": "python",
     "metadata": {},
     "outputs": []
    },
    {
     "cell_type": "code",
     "collapsed": false,
     "input": [
      "# 'Pit' is not a driver, it is used to mark laps where we can in to or out of the pits\n",
      "#  Let's delete it\n",
      "drivers.remove('Pit')"
     ],
     "language": "python",
     "metadata": {},
     "outputs": []
    },
    {
     "cell_type": "code",
     "collapsed": false,
     "input": [
      "for driver in drivers:\n",
      "    best_lap = [0, 9999999.0, 'XXX']\n",
      "    for lap in laps:\n",
      "        if (lap[2] == driver) and (lap[1] < best_lap[1]):\n",
      "            best_lap = lap\n",
      "    print(\"The best lap for driver \\'{}\\' was {}\".format(driver, best_lap))"
     ],
     "language": "python",
     "metadata": {},
     "outputs": []
    },
    {
     "cell_type": "code",
     "collapsed": false,
     "input": [
      "# What about the worst lap?\n",
      "for driver in drivers:\n",
      "    worst_lap = [0, 0.0, 'XXX']\n",
      "    for lap in laps:\n",
      "        if (lap[2] == driver) and (lap[1] > worst_lap[1]):\n",
      "            worst_lap = lap\n",
      "    print(\"The worst lap for driver \\'{}\\' was {}\".format(driver, worst_lap))"
     ],
     "language": "python",
     "metadata": {},
     "outputs": []
    },
    {
     "cell_type": "code",
     "collapsed": false,
     "input": [
      "# Which driver has the most consistent lap times?\n",
      "# First we're going to make list of lap times for each driver\n",
      "for driver in drivers:\n",
      "    lap_times = []\n",
      "    for lap in laps:\n",
      "        if (lap[2] == driver):\n",
      "            lap_times.append(lap[1])\n",
      "    print(\"Driver \\'{}\\'s lap times were {}\".format(driver, lap_times))"
     ],
     "language": "python",
     "metadata": {},
     "outputs": []
    },
    {
     "cell_type": "markdown",
     "metadata": {},
     "source": [
      "We're going to calculate a bunch of statistics for each driver.  There's got to be stuff to help in the standard library, right?\n",
      "\n",
      "https://docs.python.org/2/search.html?q=average&check_keywords=yes&area=default\n",
      "\n",
      "Nope, not what I'm looking for, try again\n",
      "\n",
      "https://docs.python.org/2/search.html?q=mean&check_keywords=yes&area=default\n",
      "\n",
      "https://docs.python.org/2/search.html?q=standard+deviation\n",
      "\n",
      "https://docs.python.org/2/search.html?q=stddev\n",
      "\n",
      "https://docs.python.org/2/search.html?q=stdev\n",
      "\n",
      "I'm not finding anything.  Hmm, where am I going wrong here?\n",
      "\n",
      "https://www.google.com/#q=standard+deviation+python\n",
      "\n",
      "I was searcing for the wrong keyword in the Python documentation.  Try again\n",
      "\n",
      "https://docs.python.org/2/search.html?q=statistics\n",
      "\n",
      "Why can't I see the statistics documentation that Google linked to?\n",
      "\n",
      "It turns out that the Google link was to Python 3.0 documentation, and we're using Python 2.7.  The statistics module is not available to us.\n",
      "\n",
      "So our version of Python doesn't have a library function for average, standard deviation, etc.  OK, we can write our own functions to do these, right?  **Wrong**.  Anything we write will probably be slower, bigger, and buggier than a library version that has been tested and used by thousands of people.\n",
      "\n",
      "So we need to figure out what library has what we need... back to Google, and let's click on the StackOverflow.com link, always the StackOverflow one.\n",
      "\n",
      "https://stackoverflow.com/questions/15389768/standard-deviation-of-a-list\n",
      "\n",
      "The answer here recommends we use the numpy library, so lets use that...\n",
      "\n",
      "I'm cheating a little here, Numpy isn't a part of the Python library, but it should be.  If you are using Python installed via the Anaconda installer, then you already have Numpy on your computer.\n",
      "\n",
      "Aside: Anaconda was created by a local Austin company called Continuum, and one of the founders of Continuum is Travis Oliphant, who was the original creator of Numpy, so it's no surprise that Numpy is included in Anaconda!"
     ]
    },
    {
     "cell_type": "code",
     "collapsed": false,
     "input": [
      "import numpy\n",
      "\n",
      "numpy_lap_times = numpy.array(lap_times)\n",
      "print(numpy_lap_times)"
     ],
     "language": "python",
     "metadata": {},
     "outputs": []
    },
    {
     "cell_type": "code",
     "collapsed": false,
     "input": [
      "# Look how much nicer the textual representation of data is when it is printed out by Numpy!\n",
      "\n",
      "print(\"Avg = {}, Max = {}, Min = {}, StdDev = {}\".format(\n",
      "            numpy.mean(numpy_lap_times),                                                        \n",
      "            numpy.max(numpy_lap_times),\n",
      "            numpy.min(numpy_lap_times),\n",
      "            numpy.std(numpy_lap_times)))\n"
     ],
     "language": "python",
     "metadata": {},
     "outputs": []
    },
    {
     "cell_type": "markdown",
     "metadata": {},
     "source": [
      "Recap\n",
      "---\n",
      "\n",
      "Lets recap all of the code we've written so that you can see it all in one place."
     ]
    },
    {
     "cell_type": "code",
     "collapsed": false,
     "input": [
      "import csv\n",
      "results_file = \"WRL_TWS_2015-05_results.csv\"\n",
      "laps = []\n",
      "\n",
      "# Read in the lap data from a CVS file\n",
      "with open(results_file, 'rU') as csv_file:\n",
      "    results_reader = csv.reader(csv_file, dialect='excel')\n",
      "    \n",
      "    results_reader.next()  # Skip the header line in the CSV file\n",
      "    \n",
      "    for lap in results_reader:\n",
      "        [lap_day, lap_when, lap_num, lap_pos, lap_time, lap_driver] = lap\n",
      "        \n",
      "        lap_num = int(lap_num)\n",
      "        \n",
      "        [lap_hr, lap_min, lap_sec] = lap_time.split(':')\n",
      "        lap_time_converted = (int(lap_hr)*60.0 + int(lap_min))*60.0 + float(lap_sec)\n",
      "        \n",
      "        laps.append([lap_num, lap_time_converted, lap_driver])\n",
      "\n",
      "# Make a set of all of the drivers\n",
      "drivers = set()\n",
      "for lap in laps:\n",
      "    drivers.add(lap[2])\n",
      "drivers.remove('Pit')  # 'Pit' is not a driver, so let's delete it\n",
      "\n",
      "\n",
      "# Calculate statistics for each driver\n",
      "import numpy\n",
      "for driver in drivers:\n",
      "    lap_times = []\n",
      "    for lap in laps:\n",
      "        if (lap[2] == driver):\n",
      "            lap_times.append(lap[1])\n",
      "    numpy_lap_times = numpy.array(lap_times)\n",
      "    print(\"Driver \\'{}\\' ran {} laps: \".format(driver, len(lap_times)) +\n",
      "          \"Avg = {}, Max = {}, Min = {}, StdDev = {}\".format(\n",
      "            numpy.mean(numpy_lap_times),                                                        \n",
      "            numpy.max(numpy_lap_times),\n",
      "            numpy.min(numpy_lap_times),\n",
      "            numpy.std(numpy_lap_times)))\n"
     ],
     "language": "python",
     "metadata": {},
     "outputs": []
    },
    {
     "cell_type": "markdown",
     "metadata": {},
     "source": [
      "And finally - plotting\n",
      "----\n",
      "\n",
      "Let's do some plots from our data\n",
      "\n",
      "First we need to look up a library package called matplotlib\n",
      "\n",
      "https://www.google.com/#q=matplotlib\n",
      "\n",
      "...which leads to...\n",
      "\n",
      "http://matplotlib.org/gallery.html\n",
      "\n",
      "...which leads to...\n",
      "\n",
      "http://matplotlib.org/examples/lines_bars_and_markers/line_demo_dash_control.html"
     ]
    },
    {
     "cell_type": "code",
     "collapsed": false,
     "input": [
      "# First lets extract my lap time data\n",
      "# That's what we'll plot\n",
      "import numpy\n",
      "for driver in ['mul']:\n",
      "    lap_times = []\n",
      "    for lap in laps:\n",
      "        #print(lap)\n",
      "        if (lap[2] == driver):\n",
      "            lap_times.append(lap[1])\n",
      "    numpy_lap_times = numpy.array(lap_times)\n",
      "\n",
      "print(\"Extracted {} lap times for driver \\'{}\\'\".format(len(lap_times), driver))"
     ],
     "language": "python",
     "metadata": {},
     "outputs": []
    },
    {
     "cell_type": "markdown",
     "metadata": {},
     "source": [
      "> Extracted 0 lap times for driver 'mul'\n",
      "\n",
      "Something is wrong here.  Any ideas?"
     ]
    },
    {
     "cell_type": "code",
     "collapsed": false,
     "input": [
      "# First lets extract my lap time data\n",
      "# That's what we'll plot\n",
      "import numpy\n",
      "for driver in ['Mul']:\n",
      "    lap_times = []\n",
      "    for lap in laps:\n",
      "        if (lap[2] == driver):\n",
      "            lap_times.append(lap[1])\n",
      "    numpy_lap_times = numpy.array(lap_times)\n",
      "\n",
      "print(\"Extracted {} lap times for driver \\'{}\\'\".format(len(lap_times), driver))"
     ],
     "language": "python",
     "metadata": {},
     "outputs": []
    },
    {
     "cell_type": "code",
     "collapsed": false,
     "input": [
      "# From the matplotlib documentation at: http://matplotlib.org/examples/lines_bars_and_markers/line_demo_dash_control.html\n",
      "\n",
      "import matplotlib.pyplot as plt\n",
      "import numpy as np\n",
      "\n",
      "x = np.linspace(0, 10)\n",
      "line, = plt.plot(x, numpy_lap_times, '--', linewidth=2)\n",
      "\n",
      "dashes = [10, 5, 100, 5] # 10 points on, 5 off, 100 on, 5 off\n",
      "line.set_dashes(dashes)\n",
      "\n",
      "plt.show()"
     ],
     "language": "python",
     "metadata": {},
     "outputs": []
    },
    {
     "cell_type": "markdown",
     "metadata": {},
     "source": [
      "Maybe we're trying to be too fancy here.  Let's look for the simplest example we can find.\n",
      "\n",
      "I ended up here on this page...\n",
      "\n",
      "http://matplotlib.org/users/pyplot_tutorial.html\n",
      "\n",
      "I'm going to take the very first example and modify it to my data"
     ]
    },
    {
     "cell_type": "code",
     "collapsed": false,
     "input": [
      "# From the matplotlib documentation at: http://matplotlib.org/users/pyplot_tutorial.html\n",
      "\n",
      "import matplotlib.pyplot as plt\n",
      "\n",
      "plt.plot(lap_times)\n",
      "plt.ylabel('Lap time (seconds)')\n",
      "plt.show()"
     ],
     "language": "python",
     "metadata": {},
     "outputs": []
    },
    {
     "cell_type": "markdown",
     "metadata": {},
     "source": [
      "I like the downward trend on laptimes, this means I was getting faster in the car as I got more experience.\n",
      "\n",
      "If we had more time, I'd look at adding lines for other drivers, so we can see how their laptimes changed over time too.\n",
      "\n",
      "But for now I'm out of time..."
     ]
    }
   ],
   "metadata": {}
  }
 ]
}